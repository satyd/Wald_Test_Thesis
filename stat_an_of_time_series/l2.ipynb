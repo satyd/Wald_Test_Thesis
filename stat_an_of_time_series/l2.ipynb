{
 "cells": [
  {
   "cell_type": "markdown",
   "metadata": {
    "id": "Cfd-RO0zb9tK"
   },
   "source": [
    "# Лабораторная работа #2"
   ]
  },
  {
   "cell_type": "markdown",
   "metadata": {
    "id": "Y3pBAdXHb9tM"
   },
   "source": [
    "На сетке узлов $\\overline{w_{h\\tau}}$ найти численное решение смешанной задачи для одномерного уравнения\n",
    "теплопроводности с использованием:  \n",
    "- явной разностной схемы с $\\tau = h = 0.1$ и $h = 0.1, \\tau = \\frac{h^2}{2}$;  \n",
    "- чисто неявной разностной схемы с $\\tau = h = 0.1$;  \n",
    "- разностной схемы Кранка-Николсона с $\\tau = h = 0.1$.\n",
    "\n",
    "Выписать соответствующие разностные схемы, указать их порядок аппроксимации, указать,\n",
    "являются ли схемы абсолютно устойчивыми по начальным данным. Найти $\\max_{i, j}|y_i^j - u(x_i, t_j)|$ .\n",
    "Построить графики, демонстрирующие устойчивое и неустойчивое поведение явной разностной\n",
    "схемы.  \n",
    "Задача:  \n",
    "$\\begin{cases}\n",
    "\\frac{\\partial u}{\\partial t} = \\frac{\\partial^2 u}{\\partial x^2} - e^{-t}sin(x+t) & 0 < x < 1, 0 < t \\leq 0.5,\\\\\n",
    "u(x, 0) = cos(x) & 0 \\leq x \\leq 1,\\\\\n",
    "u(0, t) = e^{-t}cos(t) & 0 \\leq t \\leq 0.5,\\\\\n",
    "u(1, t) = e^{-t}cos(1+t) & 0 \\leq t \\leq 0.5.\\\\\n",
    "\\end{cases}$\n",
    "\n",
    "Точное решение:  \n",
    "$u(x, t) = e^{-t}cos(x+t)$"
   ]
  },
  {
   "cell_type": "markdown",
   "metadata": {
    "id": "-Q84g8WPb9tN"
   },
   "source": [
    "- Явная разностная схема\n",
    "\n",
    "$\\sigma = 0, \\tau = h = 0.1 \\space и\\space h = 0.1, \\tau = 0.005$:\n",
    "\n",
    "$\\begin{cases}\n",
    "y_t = y_{\\overline{x}x} - e^{-t}sin(x+t) & (x, t) \\in w_{h\\tau},\\\\\n",
    "y(x, 0) = cos(x) & x \\in w_h,\\\\\n",
    "y(0, t) = e^{-t}cos(t) &  t \\in w_{\\tau},\\\\\n",
    "y(1,t) = e^{-t}cos(1+t) & t \\in w_{\\tau}.\\\\\n",
    "\\end{cases}$\n",
    "\n",
    "В индексной форме:\n",
    "\n",
    "$\\begin{cases}\n",
    "\\frac{y_i^{j + 1} - y_i^j}{\\tau} = \\frac{y_{i + 1}^j - 2y_i^j + y_{i - 1}^j}{h^2} + \\varphi_i^j & i \\in \\overline{1, N_1}, j \\in \\overline{1, N_2 - 1},\\\\\n",
    "y_i^0 = cos(x_i) & i \\in \\overline{0, N_1},\\\\\n",
    "y_0^{j} = e^{-t_{j}}cos(t_{j}) &  j \\in \\overline{1, N_2},\\\\\n",
    "y_{N_1}^{j} = e^{-t_{j}}cos(1+t_{j}) & j \\in \\overline{1, N_2}.\\\\\n",
    "\\end{cases}$\n",
    "\n",
    "Порядок аппроксимации $O(\\tau+h^2)$\n",
    "- Чисто неявная разностная схема$\\\\$\n",
    "$\\sigma = 1, \\tau = h = 0.1$:\n",
    "\n",
    "$\\begin{cases}\n",
    "y_t = \\widehat{y_{\\overline{x}x}} - e^{-t}sin(x+t) & (x, t) \\in w_{h\\tau},\\\\\n",
    "y(x, 0) = cos(x) & x \\in w_h,\\\\\n",
    "y(0, t) = e^{-t}cos(t) &  t \\in w_{\\tau},\\\\\n",
    "y(1,t) = e^{-t}cos(1+t) & t \\in w_{\\tau}.\\\\\n",
    "\\end{cases}$\n",
    "\n",
    "В индексной форме:\n",
    "\n",
    "$\\begin{cases}\n",
    "\\frac{y_i^{j + 1} - y_i^j}{\\tau} = \\frac{y_{i + 1}^{j+1} - 2y_i^{j+1} + y_{i - 1}^{j+1}}{h^2} + \\varphi_i^j & i \\in \\overline{1, N_1-1}, j \\in \\overline{0, N_2 - 1},\\\\\n",
    "y_i^0 = cos(x_i) & i \\in \\overline{0, N_1},\\\\\n",
    "y_0^{j} = e^{-t_{j}}cos(t_{j}) & j \\in \\overline{1, N_2},\\\\\n",
    "y_{N_1}^{j} = e^{-t_{j}}cos(1+t_{j}) & j \\in \\overline{1, N_2}.\\\\\n",
    "\\end{cases}$\n",
    "\n",
    "Порядок аппроксимации $O(\\tau+h^2)$\n",
    "- Разностная схема Кранка-Николсона\n",
    "\n",
    "$\\sigma = \\frac{1}{2}, \\tau = h = 0.1$:\n",
    "\n",
    "$\\begin{cases}\n",
    "y_t = \\frac{1}{2}(y_{\\overline{x}x}+\\widehat{y_{\\overline{x}x}}) - e^{-t-\\frac{\\tau}{2}}sin(x+t) & (x, t) \\in w_{h\\tau},\\\\\n",
    "y(x, 0) = cos(x) & x \\in w_h,\\\\\n",
    "y(0, t) = e^{-t}cos(t) &  t \\in w_{\\tau},\\\\\n",
    "y(1,t) = e^{-t}cos(1+t) & t \\in w_{\\tau}.\\\\\n",
    "\\end{cases}$\n",
    "\n",
    "В индексной форме:   \n",
    "$\\begin{cases}\n",
    "\\frac{y_i^{j + 1} - y_i^j}{\\tau} = \\frac{1}{2}\\frac{y_{i + 1}^j - 2y_i^j + y_{i - 1}^j}{h^2} + \\frac{1}{2}\\frac{y_{i + 1}^{j+1} - 2y_i^{j+1} + y_{i - 1}^{j+1}}{h^2} + \\varphi_i^{j+\\frac{1}{2}} & i \\in \\overline{1, N_1 - 1}, j \\in \\overline{0, N_2 - 1},\\\\\n",
    "y_i^0 = cos(x_i) & i \\in \\overline{0, N_1},\\\\\n",
    "y_0^{j} = e^{-t_{j}}cos(t_{j}) &  j \\in \\overline{1, N_2},\\\\\n",
    "y_{N_1}^{j} = e^{-t_{j}}cos(1+t_{j}) & j \\in \\overline{1, N_2}.\\\\\n",
    "\\end{cases}$\n",
    "\n",
    "Порядок аппроксимации $O(\\tau^2+h^2)$"
   ]
  },
  {
   "cell_type": "code",
   "execution_count": 556,
   "metadata": {
    "id": "9HZCc3YDb9tO"
   },
   "outputs": [],
   "source": [
    "import numpy as np\n",
    "import matplotlib.pyplot as plt\n",
    "import math\n",
    "\n",
    "def u(x, t):\n",
    "    return np.exp(-t) * np.cos(t + x) \n",
    "\n",
    "def u0(x):\n",
    "    return np.cos(x)\n",
    "\n",
    "def mu0(t):\n",
    "    return np.exp(-t)*np.cos(t)\n",
    "\n",
    "def mu1(t):\n",
    "    return np.exp(-t) * np.cos(1+t)\n",
    "\n",
    "def f(x, t):\n",
    "    return -1 * np.exp(-t) * np.sin(x + t)\n",
    "\n",
    "def draw1(x, y, t):\n",
    "    uline = [u(xl, t[0]) for xl in x]\n",
    "    plt.plot(x, uline, label='точное решение', linewidth=5)\n",
    "    plt.plot(x, y[0], label='приближённое решение', color='yellow')\n",
    "    plt.legend(loc='best')\n",
    "    plt.title(\"u(Xi,T[0])\")\n",
    "    plt.show()\n",
    "\n",
    "def draw2(x, y, t):\n",
    "    uline = [u(x[0], tl) for tl in t]\n",
    "    plt.plot(t, uline, linewidth=5)\n",
    "    plt.plot(t, np.transpose(y)[0], color='yellow')\n",
    "    plt.title(\"u(X[0],Tj)\")\n",
    "    plt.show()\n",
    "\n",
    "def draw3(x, y, t):\n",
    "    uline = [u(xl, t[4]) for xl in x]\n",
    "    plt.plot(x, uline, label='точное решение', linewidth=5)\n",
    "    plt.plot(x, y[4], label='приближённое решение', color='yellow')\n",
    "    plt.title(\"u(Xi,T[4])\")\n",
    "    plt.show()\n",
    "\n",
    "def draw4(x, y, t):\n",
    "    uline = [u(x[4], tl) for tl in t]\n",
    "    plt.plot(t, uline, linewidth=5)\n",
    "    plt.plot(t, np.transpose(y)[4], color='yellow')\n",
    "    plt.title(\"u(X[4],Tj)\")\n",
    "    plt.show()"
   ]
  },
  {
   "cell_type": "markdown",
   "source": [
    "$\\sigma = 0, \\tau = h = 0.1$:"
   ],
   "metadata": {
    "collapsed": false
   }
  },
  {
   "cell_type": "code",
   "execution_count": 557,
   "metadata": {
    "id": "Ci1qPvKDb9tP",
    "pycharm": {
     "name": "#%%\n"
    }
   },
   "outputs": [],
   "source": [
    "# явная_1\n",
    "h = 0.1\n",
    "tau = h\n",
    "N1 = int(1 / h)\n",
    "N2 = int(0.5 / tau)\n",
    "\n",
    "\n",
    "x = [i*h for i in range(N1+1)]\n",
    "u_0 = [u0(x_) for x_ in x]\n",
    "\n",
    "t = []\n",
    "phi = []\n",
    "for j in range(N2 + 1):\n",
    "    t.append(j * tau)\n",
    "    phi.append([])\n",
    "    for i in range(N1 + 1):\n",
    "        phi[j].append(f(x[i], t[j]))\n",
    "\n",
    "mu_0 = []\n",
    "mu_1 = []\n",
    "for t_ in t:\n",
    "    mu_0.append(mu0(t_))\n",
    "    mu_1.append(mu1(t_))\n",
    "\n",
    "y = []\n",
    "for j in range(N2 + 1):\n",
    "    y.append([])\n",
    "    for i in range(N1 + 1):\n",
    "        if j == 0:\n",
    "            y[j] = u_0\n",
    "        elif j != 0 and 0 < i < N1:\n",
    "            y[j].append(y[j - 1][i] + tau/(h ** 2) * (y[j - 1][i + 1] - 2 * y[j - 1][i] + y[j - 1][i - 1]) + tau * phi[j - 1][i])\n",
    "        elif j != 0 and i == 0:\n",
    "            y[j].append(mu0(t[j]))\n",
    "        elif j != 0 and i == N1:\n",
    "            y[j].append(mu1(t[j]))"
   ]
  },
  {
   "cell_type": "code",
   "execution_count": 558,
   "metadata": {
    "colab": {
     "base_uri": "https://localhost:8080/",
     "height": 265
    },
    "id": "3B2YUpb1b9tQ",
    "outputId": "74d6ceac-29ff-4b49-989f-c1833cd36ad6"
   },
   "outputs": [],
   "source": [
    "# draw1(x,y,t)\n",
    "#"
   ]
  },
  {
   "cell_type": "code",
   "execution_count": 559,
   "metadata": {
    "id": "UJF_xlLpb9tR",
    "outputId": "ef2cdece-d202-42d1-88d2-e91318bbd41f"
   },
   "outputs": [],
   "source": [
    "# draw2(x,y,t)\n",
    "#"
   ]
  },
  {
   "cell_type": "code",
   "execution_count": 560,
   "metadata": {
    "id": "GzrT0oLIb9tR",
    "outputId": "37faa6b9-01c9-46e8-9001-14a197297da4"
   },
   "outputs": [],
   "source": [
    "# draw3(x,y,t)\n",
    "#"
   ]
  },
  {
   "cell_type": "code",
   "execution_count": 561,
   "metadata": {
    "id": "vsir1Fwgb9tS",
    "outputId": "7340b147-fa9d-4bd7-f81f-7a231d2910f6"
   },
   "outputs": [],
   "source": [
    "# draw4(x,y,t)"
   ]
  },
  {
   "cell_type": "code",
   "execution_count": 562,
   "metadata": {
    "id": "oYakAAsLb9tS",
    "outputId": "c34e2a33-57a7-4816-d67a-2d025bcf35b0"
   },
   "outputs": [
    {
     "name": "stdout",
     "output_type": "stream",
     "text": [
      "Невязка:\n",
      "1003.7104960762186\n"
     ]
    }
   ],
   "source": [
    "diff = []\n",
    "for j in range(N2 + 1):\n",
    "    diff.append([])\n",
    "    for i in range(N1 + 1):\n",
    "        diff[j].append(abs(y[j][i] - u(x[i], t[j])))\n",
    "\n",
    "max_j = [max(d) for d in diff]\n",
    "\n",
    "print(\"Невязка:\")\n",
    "print(max(max_j))"
   ]
  },
  {
   "cell_type": "markdown",
   "metadata": {
    "id": "jS3G0XVqb9tS"
   },
   "source": [
    "$\\sigma = 0, h = 0.1, \\tau = 0.005$:  "
   ]
  },
  {
   "cell_type": "code",
   "execution_count": 563,
   "metadata": {
    "id": "Z8y2Dx_tb9tT"
   },
   "outputs": [],
   "source": [
    "# явная 2\n",
    "tau = h ** 2 / 2\n",
    "N2 = int(0.5 / tau)\n",
    "\n",
    "t = []\n",
    "    \n",
    "phi = []\n",
    "for j in range(N2 + 1):\n",
    "    t.append(j * tau)\n",
    "    phi.append([])\n",
    "    for i in range(N1 + 1):\n",
    "        phi[j].append(f(x[i], t[j]))\n",
    "\n",
    "y = []\n",
    "for j in range(N2 + 1):\n",
    "    y.append([])\n",
    "    for i in range(N1 + 1):\n",
    "        if j == 0:\n",
    "            y[j] = u_0\n",
    "        elif j != 0 and 0 < i < N1:\n",
    "            y[j].append(y[j - 1][i] + tau/(h ** 2) * (y[j - 1][i + 1] - 2 * y[j - 1][i] + y[j - 1][i - 1]) + tau * phi[j - 1][i])\n",
    "        elif j != 0 and i == 0:\n",
    "            y[j].append(mu0(t[j]))\n",
    "        elif j != 0 and i == N1:\n",
    "            y[j].append(mu1(t[j]))"
   ]
  },
  {
   "cell_type": "code",
   "execution_count": 564,
   "outputs": [],
   "source": [
    "#draw1(x,y,t)"
   ],
   "metadata": {
    "collapsed": false,
    "pycharm": {
     "name": "#%%\n"
    }
   }
  },
  {
   "cell_type": "code",
   "execution_count": 565,
   "metadata": {
    "id": "ZcggLA0Ib9tU",
    "outputId": "7d48c3be-f0a2-4399-b624-b1276cb0ef1d"
   },
   "outputs": [],
   "source": [
    "#draw2(x,y,t)"
   ]
  },
  {
   "cell_type": "code",
   "execution_count": 566,
   "metadata": {
    "id": "KKnt0zBHb9tU",
    "outputId": "c6c5103d-18d8-4a5e-fa8e-8d2edc337fa9"
   },
   "outputs": [],
   "source": [
    "#draw3(x,y,t)"
   ]
  },
  {
   "cell_type": "code",
   "execution_count": 567,
   "metadata": {
    "id": "uNPiygPnb9tU",
    "outputId": "96f7f0ec-d30d-426f-9cf3-692c394606d3"
   },
   "outputs": [],
   "source": [
    "#draw4(x,y,t)"
   ]
  },
  {
   "cell_type": "code",
   "execution_count": 568,
   "metadata": {
    "id": "_9qvDpkSb9tV",
    "outputId": "15c128e5-95a1-4e61-86b0-28efd681743c"
   },
   "outputs": [
    {
     "name": "stdout",
     "output_type": "stream",
     "text": [
      "Невязка:\n",
      "0.00027406483420255867\n"
     ]
    }
   ],
   "source": [
    "diff = []\n",
    "for j in range(N2 + 1):\n",
    "    diff.append([])\n",
    "    for i in range(N1 + 1):\n",
    "        diff[j].append(abs(y[j][i] - u(x[i], t[j])))\n",
    "\n",
    "max_j = []\n",
    "for d in diff:\n",
    "    max_j.append(max(d))\n",
    "\n",
    "print(\"Невязка:\")\n",
    "print(max(max_j))"
   ]
  },
  {
   "cell_type": "markdown",
   "metadata": {
    "id": "Vc8H1jsrb9tV"
   },
   "source": [
    "$\\sigma = 1, \\tau = h = 0.1$: "
   ]
  },
  {
   "cell_type": "code",
   "execution_count": 569,
   "metadata": {
    "id": "nfqlKek2b9tW"
   },
   "outputs": [],
   "source": [
    "h = 0.1\n",
    "tau = h\n",
    "N1 = int(1 / h)\n",
    "N2 = int(0.5 / tau)\n",
    "\n",
    "t = [i * tau for i in range(N2 + 1)]\n",
    "x = [i * h for i in range(N1 + 1)]\n",
    "\n",
    "u_0 = [u0(x_) for x_ in x]\n",
    "mu_0 = [mu0(t_) for t_ in t]\n",
    "mu_1 = [mu1(t_) for t_ in t]\n",
    "\n",
    "phi = []\n",
    "for j in range(N2 + 1):\n",
    "    phi.append([])\n",
    "    for i in range(N1 + 1):\n",
    "        phi[j].append(f(x[i], t[j]))"
   ]
  },
  {
   "cell_type": "code",
   "execution_count": 570,
   "metadata": {
    "id": "T2mG0MJfb9tW"
   },
   "outputs": [],
   "source": [
    "A = []\n",
    "A = np.zeros((N1 + 1, N1 + 1))\n",
    "for i in range(N1 + 1):\n",
    "#     A.append([])\n",
    "    for j in range(N1 + 1):\n",
    "        if i == 0 and j == 0:\n",
    "            A[i][j] = 1\n",
    "        elif i == 0 and j != 0:\n",
    "            A[i][j] = 0\n",
    "        elif i == N1:\n",
    "            if j == i:\n",
    "                A[i][j] = 1\n",
    "            else:\n",
    "                A[i][j] = 0\n",
    "        elif 0 < i < N1:\n",
    "            if j == i:\n",
    "                A[i][j] = (-1/h**2 - 1/tau)\n",
    "            elif j == i - 1 or j == i + 1:\n",
    "                A[i][j] = (2/(h**2))\n",
    "\n",
    "                \n",
    "y0 = [u0(x_) for x_ in x]\n",
    "y0 = np.array(y0)\n",
    "        \n",
    "y = [y0]\n",
    "# for i in range(N1 + 1):\n",
    "#     if i == 0:\n",
    "#         yj.append(yj0)\n",
    "#     else:\n",
    "#         yj.append([])\n",
    "\n",
    "for j in range(1, N2 + 1):\n",
    "    b = []\n",
    "    for i in range(N1 + 1):\n",
    "        if i == 0:\n",
    "            b.append(mu0(t[j]))\n",
    "        elif i == N1:\n",
    "            b.append(mu1(t[j]))\n",
    "        else:\n",
    "            #b.append(-1/tau * y[j - 1][i] - 1/(2 * h ** 2) * (y[j - 1][i - 1] - 2 * y[j - 1][i] + y[j - 1][i + 1]) - f(x[i], t[j - 1] + tau/2))\n",
    "            #b.append(-1/tau * y[j - 1][i] - 1 * (y[j-1][i - 1] - 2 * y[j-1][i] + y[j - 1][i + 1])/(h**2) - f(x[i], t[j - 1]))\n",
    "            b.append(-1 * y[j - 1][i] / tau - f(x[i], t[j - 1]))\n",
    "    y.append(np.dot(np.linalg.inv(A), b))"
   ]
  },
  {
   "cell_type": "code",
   "execution_count": 571,
   "metadata": {
    "id": "JCcIVGfsb9tX",
    "outputId": "57f8e0e8-6074-4b2e-dbc4-8994bae59186"
   },
   "outputs": [
    {
     "data": {
      "text/plain": "[array([1.        , 0.99500417, 0.98006658, 0.95533649, 0.92106099,\n        0.87758256, 0.82533561, 0.76484219, 0.69670671, 0.62160997,\n        0.54030231]),\n array([ 0.900317  , -1.02011082, -1.51062899,  0.14125489,  1.54202996,\n         0.66275563, -1.21899636, -1.3716472 ,  0.42956938,  1.5766618 ,\n         0.41043074]),\n array([ 0.80241065,  0.03034318, -0.73381754, -0.35707439,  0.53212569,\n         0.57481103, -0.24656285, -0.64655622, -0.03721525,  0.60815328,\n         0.29667344]),\n array([ 0.70773068, -0.76841496, -1.13066631,  0.18483351,  1.25214106,\n         0.47954924, -1.01449233, -1.02225527,  0.48778641,  1.29584325,\n         0.19816801]),\n array([ 0.61740565, -0.25432249, -0.71741983, -0.08194926,  0.66519755,\n         0.3875871 , -0.47334495, -0.59430069,  0.20070922,  0.68360256,\n         0.11393238]),\n array([ 0.53228073, -0.67658884, -0.89008163,  0.2248074 ,  1.01998232,\n         0.30532729, -0.86880626, -0.75668322,  0.4853325 ,  1.01670445,\n         0.04290428])]"
     },
     "execution_count": 571,
     "metadata": {},
     "output_type": "execute_result"
    }
   ],
   "source": [
    "y"
   ]
  },
  {
   "cell_type": "code",
   "execution_count": 572,
   "metadata": {
    "id": "dhCE72gPb9tX",
    "outputId": "a92e069a-35e8-47a5-99e4-eb2a5d1ec230",
    "pycharm": {
     "name": "#%%\n"
    }
   },
   "outputs": [
    {
     "data": {
      "text/plain": "<Figure size 432x288 with 1 Axes>",
      "image/png": "[encoded data removed]"
     },
     "metadata": {
      "needs_background": "light"
     },
     "output_type": "display_data"
    }
   ],
   "source": [
    "draw1(x,y,t)"
   ]
  },
  {
   "cell_type": "code",
   "execution_count": 573,
   "metadata": {
    "id": "a4Bu5KkKb9tX",
    "outputId": "99d1cc5f-136f-43ec-d296-29d2ea61b0dd"
   },
   "outputs": [
    {
     "data": {
      "text/plain": "<Figure size 432x288 with 1 Axes>",
      "image/png": "[encoded data removed]"
     },
     "metadata": {
      "needs_background": "light"
     },
     "output_type": "display_data"
    }
   ],
   "source": [
    "draw2(x,y,t)"
   ]
  },
  {
   "cell_type": "code",
   "execution_count": 574,
   "metadata": {
    "id": "5cJ5q1cfb9tX",
    "outputId": "79a12876-fcdf-4cdd-9332-a2ec1b5147fa"
   },
   "outputs": [
    {
     "data": {
      "text/plain": "<Figure size 432x288 with 1 Axes>",
      "image/png": "[encoded data removed]"
     },
     "metadata": {
      "needs_background": "light"
     },
     "output_type": "display_data"
    }
   ],
   "source": [
    "draw3(x,y,t)"
   ]
  },
  {
   "cell_type": "code",
   "execution_count": 575,
   "metadata": {
    "id": "pxF-kfKab9tY",
    "outputId": "907cb5f4-3e1f-43e8-8f45-03699c8a16c0"
   },
   "outputs": [
    {
     "data": {
      "text/plain": "<Figure size 432x288 with 1 Axes>",
      "image/png": "[encoded data removed]"
     },
     "metadata": {
      "needs_background": "light"
     },
     "output_type": "display_data"
    }
   ],
   "source": [
    "draw4(x,y,t)"
   ]
  },
  {
   "cell_type": "code",
   "execution_count": 576,
   "metadata": {
    "id": "qJaM7J8Zb9tY",
    "outputId": "4afa79c5-9517-42ec-db35-27afce326370"
   },
   "outputs": [
    {
     "name": "stdout",
     "output_type": "stream",
     "text": [
      "Невязка:\n",
      "2.375053192755564\n"
     ]
    }
   ],
   "source": [
    "diff = []\n",
    "for j in range(N2 + 1):\n",
    "    diff.append([])\n",
    "    for i in range(N1 + 1):\n",
    "        diff[j].append(abs(y[j][i] - u(x[i], t[j])))\n",
    "\n",
    "max_j = [max(d) for d in diff]\n",
    "\n",
    "print(\"Невязка:\")\n",
    "print(max(max_j))"
   ]
  },
  {
   "cell_type": "markdown",
   "metadata": {
    "id": "EI06zGMFb9tY"
   },
   "source": [
    "$\\sigma = \\frac{1}{2}, \\tau = h = 0.1$:  "
   ]
  },
  {
   "cell_type": "code",
   "execution_count": 577,
   "metadata": {
    "id": "8lBzvEBob9tZ"
   },
   "outputs": [],
   "source": [
    "h = 0.1\n",
    "tau = h\n",
    "N1 = int(1 / h)\n",
    "N2 = int(0.5 / tau)\n",
    "\n",
    "t = [i * tau for i in range(N2 + 1)]\n",
    "x = [i * h for i in range(N1 + 1)]\n",
    "\n",
    "\n",
    "u_0 = [u0(x_) for x_ in x]\n",
    "mu_0 = [mu0(t_) for t_ in t]\n",
    "mu_1 = [mu1(t_) for t_ in t]\n",
    "\n",
    "phi = []\n",
    "for j in range(N2 + 1):\n",
    "    phi.append([])\n",
    "    for i in range(N1 + 1):\n",
    "        phi[j].append(f(x[i], t[j] + tau/2))\n",
    "\n",
    "A = []\n",
    "A = np.zeros((N1 + 1, N1 + 1))\n",
    "for i in range(N1 + 1):\n",
    "    for j in range(N1 + 1):\n",
    "        if i == 0 and j == 0:\n",
    "            A[i][j] = 1\n",
    "        elif i == 0 and j != 0:\n",
    "            A[i][j] = 0\n",
    "        elif i == N1:\n",
    "            if j == i:\n",
    "                A[i][j] = 1\n",
    "            else:\n",
    "                A[i][j] = 0\n",
    "        elif 0 < i < N1:\n",
    "            if j == i:\n",
    "                A[i][j] = (-1/h**2 - 1/tau)\n",
    "            elif j == i - 1 or j == i + 1:\n",
    "                A[i][j] = (1/(2 * h**2))\n",
    "\n",
    "y0 = [u0(x_) for x_ in x]\n",
    "y0 = np.array(y0)\n",
    "y = [y0]\n",
    "        \n",
    "for j in range(1, N2 + 1):\n",
    "    b = []\n",
    "    for i in range(N1 + 1):\n",
    "        if i == 0:\n",
    "            b.append(mu0(t[j]))\n",
    "        elif i == N1:\n",
    "            b.append(mu1(t[j]))\n",
    "        else:\n",
    "            b.append(-1/tau * y[j - 1][i] - 1/(2 * h ** 2) * (y[j - 1][i - 1] - 2 * y[j - 1][i] + y[j - 1][i + 1]) - f(x[i], t[j - 1] + tau/2))\n",
    "    y.append(np.dot(np.linalg.inv(A), b))"
   ]
  },
  {
   "cell_type": "code",
   "execution_count": 578,
   "metadata": {
    "id": "FOO-yop-b9tZ",
    "outputId": "10273d93-adef-4855-b517-d069b4cfed90"
   },
   "outputs": [
    {
     "data": {
      "text/plain": "[array([1.        , 0.99500417, 0.98006658, 0.95533649, 0.92106099,\n        0.87758256, 0.82533561, 0.76484219, 0.69670671, 0.62160997,\n        0.54030231]),\n array([0.900317  , 0.88678465, 0.86439314, 0.83336621, 0.79401412,\n        0.74673063, 0.69198918, 0.63033835, 0.56239669, 0.4888471 ,\n        0.41043074]),\n array([0.80241065, 0.78213614, 0.75404993, 0.71843321, 0.67564261,\n        0.62610672, 0.57032179, 0.50884661, 0.44229655, 0.37133668,\n        0.29667344]),\n array([0.70773068, 0.68230722, 0.65007065, 0.61134378, 0.56651428,\n        0.51603079, 0.46039838, 0.40017349, 0.33595862, 0.26839699,\n        0.19816801]),\n array([0.61740565, 0.58822776, 0.55317739, 0.51260531, 0.46691751,\n        0.4165712 , 0.36207026, 0.30396026, 0.24282285, 0.17926933,\n        0.11393238]),\n array([0.53228073, 0.50055713, 0.46383748, 0.42248925, 0.37692616,\n        0.32760407, 0.27501631, 0.21968869, 0.16217425, 0.10304818,\n        0.04290428])]"
     },
     "execution_count": 578,
     "metadata": {},
     "output_type": "execute_result"
    }
   ],
   "source": [
    "y"
   ]
  },
  {
   "cell_type": "code",
   "execution_count": 579,
   "metadata": {
    "id": "4CbsHBw_b9tZ",
    "outputId": "68993999-d089-442f-ddff-6f315cad7ab6"
   },
   "outputs": [
    {
     "data": {
      "text/plain": "<Figure size 432x288 with 1 Axes>",
      "image/png": "[encoded data removed]"
     },
     "metadata": {
      "needs_background": "light"
     },
     "output_type": "display_data"
    }
   ],
   "source": [
    "draw1(x,y,t)"
   ]
  },
  {
   "cell_type": "code",
   "execution_count": 580,
   "metadata": {
    "id": "_2g1yL9lb9ta",
    "outputId": "6d3f31f4-c300-4ac6-b320-d79a5dafedfb"
   },
   "outputs": [
    {
     "data": {
      "text/plain": "<Figure size 432x288 with 1 Axes>",
      "image/png": "[encoded data removed]"
     },
     "metadata": {
      "needs_background": "light"
     },
     "output_type": "display_data"
    }
   ],
   "source": [
    "draw2(x,y,t)"
   ]
  },
  {
   "cell_type": "code",
   "execution_count": 581,
   "metadata": {
    "id": "IZP1Rf1nb9ta",
    "outputId": "a91a4167-fcdf-4184-aa0e-040a2c742f1a"
   },
   "outputs": [
    {
     "data": {
      "text/plain": "<Figure size 432x288 with 1 Axes>",
      "image/png": "[encoded data removed]"
     },
     "metadata": {
      "needs_background": "light"
     },
     "output_type": "display_data"
    }
   ],
   "source": [
    "draw3(x,y,t)"
   ]
  },
  {
   "cell_type": "code",
   "execution_count": 582,
   "metadata": {
    "id": "rZVj93oNb9ta",
    "outputId": "f9b61e13-d813-41cf-8a2f-2edd203bb0d5"
   },
   "outputs": [
    {
     "data": {
      "text/plain": "<Figure size 432x288 with 1 Axes>",
      "image/png": "[encoded data removed]"
     },
     "metadata": {
      "needs_background": "light"
     },
     "output_type": "display_data"
    }
   ],
   "source": [
    "draw4(x,y,t)"
   ]
  },
  {
   "cell_type": "code",
   "execution_count": 583,
   "metadata": {
    "id": "hdCVHRBwb9tb",
    "outputId": "c4b3f082-38eb-4356-e11e-0e33369378ab",
    "pycharm": {
     "name": "#%%\n"
    }
   },
   "outputs": [
    {
     "name": "stdout",
     "output_type": "stream",
     "text": [
      "Невязка:\n",
      "0.00010642457937931615\n"
     ]
    }
   ],
   "source": [
    "diff = []\n",
    "for j in range(N2 + 1):\n",
    "    diff.append([])\n",
    "    for i in range(N1 + 1):\n",
    "        diff[j].append(abs(y[j][i] - u(x[i], t[j])))\n",
    "\n",
    "max_j = [max(d) for d in diff]\n",
    "\n",
    "print(\"Невязка:\")\n",
    "print(max(max_j))\n"
   ]
  }
 ],
 "metadata": {
  "colab": {
   "collapsed_sections": [],
   "name": "lab2.ipynb",
   "provenance": []
  },
  "kernelspec": {
   "display_name": "Python 3",
   "language": "python",
   "name": "python3"
  },
  "language_info": {
   "codemirror_mode": {
    "name": "ipython",
    "version": 3
   },
   "file_extension": ".py",
   "mimetype": "text/x-python",
   "name": "python",
   "nbconvert_exporter": "python",
   "pygments_lexer": "ipython3",
   "version": "3.8.5"
  }
 },
 "nbformat": 4,
 "nbformat_minor": 1
}