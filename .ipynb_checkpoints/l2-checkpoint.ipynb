{
 "cells": [
  {
   "cell_type": "markdown",
   "metadata": {
    "id": "Cfd-RO0zb9tK"
   },
   "source": [
    "# Лабораторная работа № 2"
   ]
  },
  {
   "cell_type": "markdown",
   "metadata": {
    "id": "Y3pBAdXHb9tM"
   },
   "source": [
    "На сетке узлов $\\overline{w_{h\\tau}}$ найти численное решение смешанной задачи для одномерного уравнения\n",
    "теплопроводности с использованием:  \n",
    "- явной разностной схемы с $\\tau = h = 0.1$ и $h = 0.1, \\tau = \\frac{h^2}{2}$;  \n",
    "- чисто неявной разностной схемы с $\\tau = h = 0.1$;  \n",
    "- разностной схемы Кранка-Николсон с $\\tau = h = 0.1$.  \n",
    "\n",
    "Выписать соответствующие разностные схемы, указать их порядок аппроксимации, указать,\n",
    "являются ли схемы абсолютно устойчивыми по начальным данным. Найти $\\max_{i, j}|y_i^j - u(x_i, t_j)|$ .\n",
    "Построить графики, демонстрирующие устойчивое и неустойчивое поведение явной разностной\n",
    "схемы.  \n",
    "Задача:  \n",
    "$\\begin{cases}\n",
    "\\frac{\\partial u}{\\partial t} = \\frac{\\partial^2 u}{\\partial x^2} + 3 e^{-t}cos(2x) & 0 < x < 1, 0 < t \\leq 0.5,\\\\\n",
    "u(x, 0) = cos(2x) & 0 \\leq x \\leq 1,\\\\\n",
    "u(0, t) = e^{-t} & 0 \\leq t \\leq 0.5,\\\\\n",
    "u(1, t) = e^{-t}cos(2) & 0 \\leq t \\leq 0.5.\\\\\n",
    "\\end{cases}$  \n",
    "Точное решение:  \n",
    "$u(x, t) = e^{-t}cos(2x)$  "
   ]
  },
  {
   "cell_type": "markdown",
   "metadata": {
    "id": "-Q84g8WPb9tN"
   },
   "source": [
    "Выпишем разностные схемы для каждого пункта:  \n",
    "$\\sigma = 0, \\tau = h = 0.1 \\lor h = 0.1, \\tau = 0.005$:  \n",
    "$\\begin{cases}\n",
    "y_t = y_{\\overline{x}x} + 3 e^{-t}cos(2x) & (x, t) \\in w_{h\\tau},\\\\\n",
    "y(x, 0) = cos(2x) & x \\in w_h,\\\\\n",
    "y(0, t) = e^{-t} &  t \\in w_{\\tau},\\\\\n",
    "y(1,t) = e^{-t}cos(2) & t \\in w_{\\tau}.\\\\\n",
    "\\end{cases}$   \n",
    "В индексной форме:   \n",
    "$\\begin{cases}\n",
    "\\frac{y_i^{j + 1} - y_i^j}{\\tau} = \\frac{y_{i + 1}^j - 2y_i^j + y_{i - 1}^j}{h^2} + \\varphi_i^j & i \\in \\overline{1, N_1}, j \\in \\overline{1, N_2 - 1},\\\\\n",
    "y_i^0 = cos(2x_i) & i \\in \\overline{1, N_1},\\\\\n",
    "y_0^{j+1} = e^{-t_{j+1}} &  j \\in \\overline{0, N_2 - 1},\\\\\n",
    "y_{N_1}^{j+1} = e^{-t_{j+1}}cos(2) & j \\in \\overline{0, N_2 - 1}.\\\\\n",
    "\\end{cases}$   \n",
    "\n",
    "$\\sigma = 1, \\tau = h = 0.1$:   \n",
    "$\\begin{cases}\n",
    "y_t = \\widehat{y_{\\overline{x}x}} + 3 e^{-t}cos(2x) & (x, t) \\in w_{h\\tau},\\\\\n",
    "y(x, 0) = cos(2x) & x \\in w_h,\\\\\n",
    "y(0, t) = e^{-t} &  t \\in w_{\\tau},\\\\\n",
    "y(1,t) = e^{-t}cos(2) & t \\in w_{\\tau}.\\\\\n",
    "\\end{cases}$   \n",
    "В индексной форме:   \n",
    "$\\begin{cases}\n",
    "\\frac{y_i^{j + 1} - y_i^j}{\\tau} = \\frac{y_{i + 1}^{j+1} - 2y_i^{j+1} + y_{i - 1}^{j+1}}{h^2} + \\varphi_i^j & i \\in \\overline{1, N_1}, j \\in \\overline{0, N_2 - 1},\\\\\n",
    "y_i^0 = cos(2x_i) & i \\in \\overline{1, N_1},\\\\\n",
    "y_0^{j+1} = e^{-t_{j+1}} & j \\in \\overline{0, N_2 - 1},\\\\\n",
    "y_{N_1}^{j+1} = e^{-t_{j+1}}cos(2) & j \\in \\overline{0, N_2 - 1}.\\\\\n",
    "\\end{cases}$  \n",
    "\n",
    "$\\sigma = \\frac{1}{2}, \\tau = h = 0.1$:  \n",
    "$\\begin{cases}\n",
    "y_t = \\frac{1}{2}(y_{\\overline{x}x}+\\widehat{y_{\\overline{x}x}}) + 3 e^{-t-\\frac{\\tau}{2}}cos(2x) & (x, t) \\in w_{h\\tau},\\\\\n",
    "y(x, 0) = cos(2x) & x \\in w_h,\\\\\n",
    "y(0, t) = e^{-t} &  t \\in w_{\\tau},\\\\\n",
    "y(1,t) = e^{-t}cos(2) & t \\in w_{\\tau}.\\\\\n",
    "\\end{cases}$   \n",
    "В индексной форме:   \n",
    "$\\begin{cases}\n",
    "\\frac{y_i^{j + 1} - y_i^j}{\\tau} = \\frac{1}{2}\\frac{y_{i + 1}^j - 2y_i^j + y_{i - 1}^j}{h^2} + \\frac{1}{2}\\frac{y_{i + 1}^{j+1} - 2y_i^j + y_{i - 1}^{j+1}}{h^2} + \\varphi_i^{j+\\frac{1}{2}} & i \\in \\overline{1, N_1}, j \\in \\overline{0, N_2 - 1},\\\\\n",
    "y_i^0 = cos(2x_i) & i \\in \\overline{1, N_1},\\\\\n",
    "y_0^{j+1} = e^{-t_{j+1}} &  j \\in \\overline{0, N_2 - 1},\\\\\n",
    "y_{N_1}^{j+1} = e^{-t_{j+1}}cos(2) & j \\in \\overline{0, N_2 - 1}.\\\\\n",
    "\\end{cases}$  "
   ]
  },
  {
   "cell_type": "code",
   "execution_count": 17,
   "metadata": {
    "id": "9HZCc3YDb9tO"
   },
   "outputs": [],
   "source": [
    "import numpy as np\n",
    "import matplotlib.pyplot as plt\n",
    "import math"
   ]
  },
  {
   "cell_type": "code",
   "execution_count": 18,
   "metadata": {
    "id": "16Y_aYQAb9tO"
   },
   "outputs": [],
   "source": [
    "def u(x, t):\n",
    "    return np.exp(-t) * np.cos(t + x) \n",
    "\n",
    "def u0(x):\n",
    "    return np.cos(x)\n",
    "\n",
    "def mu0(t):\n",
    "    return np.exp(-t)*np.cos(t)\n",
    "\n",
    "def mu1(t):\n",
    "    return np.exp(-t) * np.cos(1+t)\n",
    "\n",
    "def f(x, t):\n",
    "    return -1 * np.exp(-t) * np.sin(x + t)"
   ]
  },
  {
   "cell_type": "markdown",
   "metadata": {
    "id": "dgpLAUaWb9tP"
   },
   "source": [
    "$\\sigma = 0, \\tau = h = 0.1$:"
   ]
  },
  {
   "cell_type": "code",
   "execution_count": 19,
   "metadata": {
    "id": "Ci1qPvKDb9tP"
   },
   "outputs": [],
   "source": [
    "h = 0.1\n",
    "tau = h\n",
    "N1 = int(1 / h)\n",
    "N2 = int(0.5 / tau)"
   ]
  },
  {
   "cell_type": "code",
   "execution_count": 20,
   "metadata": {
    "id": "Ysv918hQb9tP"
   },
   "outputs": [],
   "source": [
    "t = []\n",
    "for i in range(N2 + 1):\n",
    "    t.append(i * tau)\n",
    "\n",
    "x = []\n",
    "for i in range(N1 + 1):\n",
    "    x.append(i * h)"
   ]
  },
  {
   "cell_type": "code",
   "execution_count": 21,
   "metadata": {
    "id": "oA66L619b9tP"
   },
   "outputs": [],
   "source": [
    "u_0 = []\n",
    "for x_ in x:\n",
    "    u_0.append(u0(x_))\n",
    "    \n",
    "mu_0 = []\n",
    "for t_ in t:\n",
    "    mu_0.append(mu0(t_))\n",
    "    \n",
    "mu_1 = []\n",
    "for t_ in t:\n",
    "    mu_1.append(mu1(t_))\n",
    "    \n",
    "phi = []\n",
    "for j in range(N2 + 1):\n",
    "    phi.append([])\n",
    "    for i in range(N1 + 1):\n",
    "        phi[j].append(f(x[i], t[j]))"
   ]
  },
  {
   "cell_type": "code",
   "execution_count": 22,
   "metadata": {
    "id": "8sDh2cA2b9tQ"
   },
   "outputs": [],
   "source": [
    "y = []\n",
    "for j in range(N2 + 1):\n",
    "    y.append([])\n",
    "    for i in range(N1 + 1):\n",
    "        if j == 0:\n",
    "            y[j] = u_0\n",
    "        elif j != 0 and 0 < i < N1:\n",
    "            y[j].append(y[j - 1][i] * tau/(h ** 2) * (y[j - 1][i + 1] - 2 * y[j - 1][i] + y[j - 1][i + 1]) + tau * phi[j - 1][i])\n",
    "        elif j != 0 and i == 0:\n",
    "            y[j].append(mu0(t[j]))\n",
    "        elif j != 0 and i == N1:\n",
    "            y[j].append(mu1(t[j]))"
   ]
  },
  {
   "cell_type": "code",
   "execution_count": 23,
   "metadata": {
    "colab": {
     "base_uri": "https://localhost:8080/",
     "height": 265
    },
    "id": "3B2YUpb1b9tQ",
    "outputId": "74d6ceac-29ff-4b49-989f-c1833cd36ad6"
   },
   "outputs": [
    {
     "data": {
      "image/png": "[encoded data removed]",
      "text/plain": [
       "<Figure size 432x288 with 1 Axes>"
      ]
     },
     "metadata": {
      "needs_background": "light"
     },
     "output_type": "display_data"
    }
   ],
   "source": [
    "uline = []\n",
    "for xl in x:\n",
    "    uline.append(u(xl, t[0]))\n",
    "\n",
    "\n",
    "plt.plot(x, uline, label='точное решение', linewidth=5)\n",
    "plt.plot(x, y[0], label='приближённое решение', color='yellow')\n",
    "plt.show()"
   ]
  },
  {
   "cell_type": "code",
   "execution_count": 24,
   "metadata": {
    "id": "UJF_xlLpb9tR",
    "outputId": "ef2cdece-d202-42d1-88d2-e91318bbd41f"
   },
   "outputs": [
    {
     "data": {
      "image/png": "[encoded data removed]",
      "text/plain": [
       "<Figure size 432x288 with 1 Axes>"
      ]
     },
     "metadata": {
      "needs_background": "light"
     },
     "output_type": "display_data"
    }
   ],
   "source": [
    "uline = []\n",
    "for tl in t:\n",
    "    uline.append(u(x[0], tl))\n",
    "\n",
    "\n",
    "plt.plot(t, np.transpose(y)[0], linewidth=5)\n",
    "plt.plot(t, uline, color='yellow')\n",
    "plt.show()"
   ]
  },
  {
   "cell_type": "code",
   "execution_count": 25,
   "metadata": {
    "id": "GzrT0oLIb9tR",
    "outputId": "37faa6b9-01c9-46e8-9001-14a197297da4"
   },
   "outputs": [
    {
     "data": {
      "image/png": "[encoded data removed]",
      "text/plain": [
       "<Figure size 432x288 with 1 Axes>"
      ]
     },
     "metadata": {
      "needs_background": "light"
     },
     "output_type": "display_data"
    }
   ],
   "source": [
    "uline = []\n",
    "for xl in x:\n",
    "    uline.append(u(xl, t[4]))\n",
    "\n",
    "\n",
    "plt.plot(x, uline, label='точное решение', linewidth=5)\n",
    "plt.plot(x, y[4], label='приближённое решение', color='yellow')\n",
    "plt.legend(loc='best')\n",
    "plt.show()"
   ]
  },
  {
   "cell_type": "code",
   "execution_count": 26,
   "metadata": {
    "id": "vsir1Fwgb9tS",
    "outputId": "7340b147-fa9d-4bd7-f81f-7a231d2910f6"
   },
   "outputs": [
    {
     "data": {
      "image/png": "[encoded data removed]",
      "text/plain": [
       "<Figure size 432x288 with 1 Axes>"
      ]
     },
     "metadata": {
      "needs_background": "light"
     },
     "output_type": "display_data"
    }
   ],
   "source": [
    "uline = []\n",
    "for tl in t:\n",
    "    uline.append(u(x[4], tl))\n",
    "\n",
    "\n",
    "plt.plot(t, np.transpose(y)[4], linewidth=5)\n",
    "plt.plot(t, uline, color='yellow')\n",
    "\n",
    "plt.show()"
   ]
  },
  {
   "cell_type": "markdown",
   "metadata": {
    "id": "mvYuK7Pkb9tS"
   },
   "source": [
    "Невязка:"
   ]
  },
  {
   "cell_type": "code",
   "execution_count": 27,
   "metadata": {
    "id": "oYakAAsLb9tS",
    "outputId": "c34e2a33-57a7-4816-d67a-2d025bcf35b0"
   },
   "outputs": [
    {
     "name": "stdout",
     "output_type": "stream",
     "text": [
      "1.7529482658379113e+21\n"
     ]
    }
   ],
   "source": [
    "diff = []\n",
    "for j in range(N2 + 1):\n",
    "    diff.append([])\n",
    "    for i in range(N1 + 1):\n",
    "        diff[j].append(abs(y[j][i] - u(x[i], t[j])))\n",
    "\n",
    "max_j = []\n",
    "for d in diff:\n",
    "    max_j.append(max(d))\n",
    "    \n",
    "print(max(max_j))"
   ]
  },
  {
   "cell_type": "markdown",
   "metadata": {
    "id": "jS3G0XVqb9tS"
   },
   "source": [
    "$\\sigma = 0, h = 0.1, \\tau = 0.005$:  "
   ]
  },
  {
   "cell_type": "code",
   "execution_count": 28,
   "metadata": {
    "id": "Z8y2Dx_tb9tT"
   },
   "outputs": [],
   "source": [
    "tau = h ** 2 / 2\n",
    "N2 = int(0.5 / tau)"
   ]
  },
  {
   "cell_type": "code",
   "execution_count": 29,
   "metadata": {
    "id": "hgwpZ2eFb9tT"
   },
   "outputs": [],
   "source": [
    "t = []\n",
    "for i in range(N2 + 1):\n",
    "    t.append(i * tau)"
   ]
  },
  {
   "cell_type": "code",
   "execution_count": 30,
   "metadata": {
    "id": "--1GYfQPb9tT"
   },
   "outputs": [],
   "source": [
    "mu_0 = []\n",
    "for t_ in t:\n",
    "    mu_0.append(mu0(t_))\n",
    "    \n",
    "mu_1 = []\n",
    "for t_ in t:\n",
    "    mu_1.append(mu1(t_))\n",
    "    \n",
    "phi = []\n",
    "for j in range(N2 + 1):\n",
    "    phi.append([])\n",
    "    for i in range(N1 + 1):\n",
    "        phi[j].append(f(x[i], t[j]))"
   ]
  },
  {
   "cell_type": "code",
   "execution_count": 31,
   "metadata": {
    "id": "wItzSBxgb9tT"
   },
   "outputs": [],
   "source": [
    "y = []\n",
    "for j in range(N2 + 1):\n",
    "    y.append([])\n",
    "    for i in range(N1 + 1):\n",
    "        if j == 0:\n",
    "            y[j] = u_0\n",
    "        elif j != 0 and 0 < i < N1:\n",
    "            y[j].append(y[j - 1][i] * tau/(h ** 2) * (y[j - 1][i + 1] - 2 * y[j - 1][i] + y[j - 1][i + 1]) + tau * phi[j - 1][i])\n",
    "        elif j != 0 and i == 0:\n",
    "            y[j].append(mu0(t[j]))\n",
    "        elif j != 0 and i == N1:\n",
    "            y[j].append(mu1(t[j]))"
   ]
  },
  {
   "cell_type": "code",
   "execution_count": 32,
   "metadata": {
    "id": "0U91z40Hb9tU",
    "outputId": "b9c79223-38c2-49d8-9f78-9564e5a0270a"
   },
   "outputs": [
    {
     "data": {
      "image/png": "[encoded data removed]",
      "text/plain": [
       "<Figure size 432x288 with 1 Axes>"
      ]
     },
     "metadata": {
      "needs_background": "light"
     },
     "output_type": "display_data"
    }
   ],
   "source": [
    "uline = []\n",
    "for xl in x:\n",
    "    uline.append(u(xl, t[0]))\n",
    "\n",
    "\n",
    "plt.plot(x, uline, label='точное решение', linewidth=5)\n",
    "plt.plot(x, y[0], label='приближённое решение', color='yellow')\n",
    "plt.legend(loc='best')\n",
    "plt.show()"
   ]
  },
  {
   "cell_type": "code",
   "execution_count": 33,
   "metadata": {
    "id": "ZcggLA0Ib9tU",
    "outputId": "7d48c3be-f0a2-4399-b624-b1276cb0ef1d"
   },
   "outputs": [
    {
     "data": {
      "image/png": "[encoded data removed]",
      "text/plain": [
       "<Figure size 432x288 with 1 Axes>"
      ]
     },
     "metadata": {
      "needs_background": "light"
     },
     "output_type": "display_data"
    }
   ],
   "source": [
    "uline = []\n",
    "for tl in t:\n",
    "    uline.append(u(x[0], tl))\n",
    "\n",
    "\n",
    "plt.plot(t, np.transpose(y)[0], linewidth=5)\n",
    "plt.plot(t, uline, color='yellow')\n",
    "plt.show()"
   ]
  },
  {
   "cell_type": "code",
   "execution_count": 34,
   "metadata": {
    "id": "KKnt0zBHb9tU",
    "outputId": "c6c5103d-18d8-4a5e-fa8e-8d2edc337fa9"
   },
   "outputs": [
    {
     "data": {
      "image/png": "[encoded data removed]",
      "text/plain": [
       "<Figure size 432x288 with 1 Axes>"
      ]
     },
     "metadata": {
      "needs_background": "light"
     },
     "output_type": "display_data"
    }
   ],
   "source": [
    "uline = []\n",
    "for xl in x:\n",
    "    uline.append(u(xl, t[4]))\n",
    "\n",
    "\n",
    "plt.plot(x, uline, label='точное решение', linewidth=4)\n",
    "plt.plot(x, y[4], label='приближённое решение')\n",
    "plt.show()"
   ]
  },
  {
   "cell_type": "code",
   "execution_count": 35,
   "metadata": {
    "id": "uNPiygPnb9tU",
    "outputId": "96f7f0ec-d30d-426f-9cf3-692c394606d3"
   },
   "outputs": [
    {
     "data": {
      "image/png": "[encoded data removed]",
      "text/plain": [
       "<Figure size 432x288 with 1 Axes>"
      ]
     },
     "metadata": {
      "needs_background": "light"
     },
     "output_type": "display_data"
    }
   ],
   "source": [
    "uline = []\n",
    "for tl in t:\n",
    "    uline.append(u(x[4], tl))\n",
    "\n",
    "\n",
    "plt.plot(t, np.transpose(y)[4], linewidth=4)\n",
    "plt.plot(t, uline)\n",
    "plt.show()"
   ]
  },
  {
   "cell_type": "markdown",
   "metadata": {
    "id": "6ZKkXI_Ub9tV"
   },
   "source": [
    "Невязка:"
   ]
  },
  {
   "cell_type": "code",
   "execution_count": 36,
   "metadata": {
    "id": "_9qvDpkSb9tV",
    "outputId": "15c128e5-95a1-4e61-86b0-28efd681743c"
   },
   "outputs": [
    {
     "name": "stdout",
     "output_type": "stream",
     "text": [
      "1.0048946392011056\n"
     ]
    }
   ],
   "source": [
    "diff = []\n",
    "for j in range(N2 + 1):\n",
    "    diff.append([])\n",
    "    for i in range(N1 + 1):\n",
    "        diff[j].append(abs(y[j][i] - u(x[i], t[j])))\n",
    "\n",
    "max_j = []\n",
    "for d in diff:\n",
    "    max_j.append(max(d))\n",
    "    \n",
    "print(max(max_j))"
   ]
  },
  {
   "cell_type": "markdown",
   "metadata": {
    "id": "Vc8H1jsrb9tV"
   },
   "source": [
    "$\\sigma = 1, \\tau = h = 0.1$: "
   ]
  },
  {
   "cell_type": "code",
   "execution_count": 37,
   "metadata": {
    "id": "nfqlKek2b9tW"
   },
   "outputs": [],
   "source": [
    "h = 0.1\n",
    "tau = h\n",
    "N1 = int(1 / h)\n",
    "N2 = int(0.5 / tau)"
   ]
  },
  {
   "cell_type": "code",
   "execution_count": 38,
   "metadata": {
    "id": "2NZOmHlmb9tW"
   },
   "outputs": [],
   "source": [
    "t = []\n",
    "for i in range(N2 + 1):\n",
    "    t.append(i * tau)\n",
    "\n",
    "x = []\n",
    "for i in range(N1 + 1):\n",
    "    x.append(i * h)"
   ]
  },
  {
   "cell_type": "code",
   "execution_count": 39,
   "metadata": {
    "id": "F7Hm4Hkub9tW"
   },
   "outputs": [
    {
     "ename": "NameError",
     "evalue": "name 'muN2' is not defined",
     "output_type": "error",
     "traceback": [
      "\u001b[1;31m---------------------------------------------------------------------------\u001b[0m",
      "\u001b[1;31mNameError\u001b[0m                                 Traceback (most recent call last)",
      "\u001b[1;32m<ipython-input-39-81464148af3b>\u001b[0m in \u001b[0;36m<module>\u001b[1;34m\u001b[0m\n\u001b[0;32m      9\u001b[0m \u001b[0mmu_1\u001b[0m \u001b[1;33m=\u001b[0m \u001b[1;33m[\u001b[0m\u001b[1;33m]\u001b[0m\u001b[1;33m\u001b[0m\u001b[1;33m\u001b[0m\u001b[0m\n\u001b[0;32m     10\u001b[0m \u001b[1;32mfor\u001b[0m \u001b[0mt_\u001b[0m \u001b[1;32min\u001b[0m \u001b[0mt\u001b[0m\u001b[1;33m:\u001b[0m\u001b[1;33m\u001b[0m\u001b[1;33m\u001b[0m\u001b[0m\n\u001b[1;32m---> 11\u001b[1;33m     \u001b[0mmu_1\u001b[0m\u001b[1;33m.\u001b[0m\u001b[0mappend\u001b[0m\u001b[1;33m(\u001b[0m\u001b[0mmuN2\u001b[0m\u001b[1;33m(\u001b[0m\u001b[0mt_\u001b[0m\u001b[1;33m)\u001b[0m\u001b[1;33m)\u001b[0m\u001b[1;33m\u001b[0m\u001b[1;33m\u001b[0m\u001b[0m\n\u001b[0m\u001b[0;32m     12\u001b[0m \u001b[1;33m\u001b[0m\u001b[0m\n\u001b[0;32m     13\u001b[0m \u001b[0mphi\u001b[0m \u001b[1;33m=\u001b[0m \u001b[1;33m[\u001b[0m\u001b[1;33m]\u001b[0m\u001b[1;33m\u001b[0m\u001b[1;33m\u001b[0m\u001b[0m\n",
      "\u001b[1;31mNameError\u001b[0m: name 'muN2' is not defined"
     ]
    }
   ],
   "source": [
    "u_0 = []\n",
    "for x_ in x:\n",
    "    u_0.append(u0(x_))\n",
    "    \n",
    "mu_0 = []\n",
    "for t_ in t:\n",
    "    mu_0.append(mu0(t_))\n",
    "    \n",
    "mu_1 = []\n",
    "for t_ in t:\n",
    "    mu_1.append(muN2(t_))\n",
    "    \n",
    "phi = []\n",
    "for j in range(N2 + 1):\n",
    "    phi.append([])\n",
    "    for i in range(N1 + 1):\n",
    "        phi[j].append(f(x[i], t[j]))"
   ]
  },
  {
   "cell_type": "code",
   "execution_count": null,
   "metadata": {
    "id": "T2mG0MJfb9tW"
   },
   "outputs": [],
   "source": [
    "A = []\n",
    "A = np.zeros((N1 + 1, N1 + 1))\n",
    "for i in range(N1 + 1):\n",
    "#     A.append([])\n",
    "    for j in range(N1 + 1):\n",
    "        if i == 0 and j == 0:\n",
    "            A[i][j] = 1\n",
    "        elif i == 0 and j != 0:\n",
    "            A[i][j] = 0\n",
    "        elif i == N1:\n",
    "            if j == i:\n",
    "                A[i][j] = 1\n",
    "            else:\n",
    "                A[i][j] = 0\n",
    "        elif 0 < i < N1:\n",
    "            if j == i:\n",
    "                A[i][j] = (-1/h**2 - 1/tau)\n",
    "            elif j == i - 1 or j == i + 1:\n",
    "                A[i][j] = (1/(h**2))\n",
    "\n",
    "                \n",
    "y0 = []\n",
    "for x_ in x:\n",
    "    y0.append(u0(x_))\n",
    "\n",
    "y0 = np.array(y0)    \n",
    "        \n",
    "y = []\n",
    "y.append(y0)\n",
    "# for i in range(N1 + 1):\n",
    "#     if i == 0:\n",
    "#         yj.append(yj0)\n",
    "#     else:\n",
    "#         yj.append([])\n",
    "        \n",
    "for j in range(1, N2 + 1):\n",
    "    b = []\n",
    "    for i in range(N1 + 1):\n",
    "        if i == 0:\n",
    "            b.append(mu0(t[j]))\n",
    "        elif i == N1:\n",
    "            b.append(muN2(t[j]))\n",
    "        else:\n",
    "            b.append(-1/tau * y[j - 1][i] + f(x[i], t[j - 1]))\n",
    "            \n",
    "            \n",
    "    y.append(np.dot(np.linalg.inv(A), b))"
   ]
  },
  {
   "cell_type": "code",
   "execution_count": null,
   "metadata": {
    "id": "JCcIVGfsb9tX",
    "outputId": "57f8e0e8-6074-4b2e-dbc4-8994bae59186"
   },
   "outputs": [],
   "source": [
    "y"
   ]
  },
  {
   "cell_type": "code",
   "execution_count": null,
   "metadata": {
    "id": "dhCE72gPb9tX",
    "outputId": "a92e069a-35e8-47a5-99e4-eb2a5d1ec230"
   },
   "outputs": [],
   "source": [
    "uline = []\n",
    "for xl in x:\n",
    "    uline.append(u(xl, t[0]))\n",
    "\n",
    "\n",
    "plt.plot(x, uline, label='точное решение', linewidth=4)\n",
    "plt.plot(x, y[0], label='приближённое решение')\n",
    "plt.show()"
   ]
  },
  {
   "cell_type": "code",
   "execution_count": null,
   "metadata": {
    "id": "a4Bu5KkKb9tX",
    "outputId": "99d1cc5f-136f-43ec-d296-29d2ea61b0dd"
   },
   "outputs": [],
   "source": [
    "uline = []\n",
    "for tl in t:\n",
    "    uline.append(u(x[0], tl))\n",
    "\n",
    "\n",
    "plt.plot(t, np.transpose(y)[0], linewidth=4)\n",
    "plt.plot(t, uline)\n",
    "plt.show()"
   ]
  },
  {
   "cell_type": "code",
   "execution_count": null,
   "metadata": {
    "id": "5cJ5q1cfb9tX",
    "outputId": "79a12876-fcdf-4cdd-9332-a2ec1b5147fa"
   },
   "outputs": [],
   "source": [
    "uline = []\n",
    "for xl in x:\n",
    "    uline.append(u(xl, t[4]))\n",
    "\n",
    "\n",
    "plt.plot(x, uline, label='точное решение', linewidth=4)\n",
    "plt.plot(x, y[4], label='приближённое решение')\n",
    "plt.show()"
   ]
  },
  {
   "cell_type": "code",
   "execution_count": null,
   "metadata": {
    "id": "pxF-kfKab9tY",
    "outputId": "907cb5f4-3e1f-43e8-8f45-03699c8a16c0"
   },
   "outputs": [],
   "source": [
    "uline = []\n",
    "for tl in t:\n",
    "    uline.append(u(x[4], tl))\n",
    "\n",
    "\n",
    "plt.plot(t, np.transpose(y)[4], linewidth=4)\n",
    "plt.plot(t, uline)\n",
    "plt.show()"
   ]
  },
  {
   "cell_type": "markdown",
   "metadata": {
    "id": "H2WjTp9eb9tY"
   },
   "source": [
    "Невязка:"
   ]
  },
  {
   "cell_type": "code",
   "execution_count": null,
   "metadata": {
    "id": "qJaM7J8Zb9tY",
    "outputId": "4afa79c5-9517-42ec-db35-27afce326370"
   },
   "outputs": [],
   "source": [
    "diff = []\n",
    "for j in range(N2 + 1):\n",
    "    diff.append([])\n",
    "    for i in range(N1 + 1):\n",
    "        diff[j].append(abs(y[j][i] - u(x[i], t[j])))\n",
    "\n",
    "max_j = []\n",
    "for d in diff:\n",
    "    max_j.append(max(d))\n",
    "\n",
    "print(max(max_j))"
   ]
  },
  {
   "cell_type": "markdown",
   "metadata": {
    "id": "EI06zGMFb9tY"
   },
   "source": [
    "$\\sigma = \\frac{1}{2}, \\tau = h = 0.1$:  "
   ]
  },
  {
   "cell_type": "code",
   "execution_count": null,
   "metadata": {
    "id": "8lBzvEBob9tZ"
   },
   "outputs": [],
   "source": [
    "h = 0.1\n",
    "tau = h\n",
    "N1 = int(1 / h)\n",
    "N2 = int(0.5 / tau)\n",
    "\n",
    "t = []\n",
    "for i in range(N2 + 1):\n",
    "    t.append(i * tau)\n",
    "\n",
    "x = []\n",
    "for i in range(N1 + 1):\n",
    "    x.append(i * h)\n",
    "\n",
    "u_0 = []\n",
    "for x_ in x:\n",
    "    u_0.append(u0(x_))\n",
    "    \n",
    "mu_0 = []\n",
    "for t_ in t:\n",
    "    mu_0.append(mu0(t_))\n",
    "    \n",
    "mu_1 = []\n",
    "for t_ in t:\n",
    "    mu_1.append(muN2(t_))\n",
    "    \n",
    "phi = []\n",
    "for j in range(N2 + 1):\n",
    "    phi.append([])\n",
    "    for i in range(N1 + 1):\n",
    "        phi[j].append(f(x[i], t[j] + tau/2))"
   ]
  },
  {
   "cell_type": "code",
   "execution_count": null,
   "metadata": {
    "id": "suhc0wOvb9tZ"
   },
   "outputs": [],
   "source": [
    "A = []\n",
    "A = np.zeros((N1 + 1, N1 + 1))\n",
    "for i in range(N1 + 1):\n",
    "    for j in range(N1 + 1):\n",
    "        if i == 0 and j == 0:\n",
    "            A[i][j] = 1\n",
    "        elif i == 0 and j != 0:\n",
    "            A[i][j] = 0\n",
    "        elif i == N1:\n",
    "            if j == i:\n",
    "                A[i][j] = 1\n",
    "            else:\n",
    "                A[i][j] = 0\n",
    "        elif 0 < i < N1:\n",
    "            if j == i:\n",
    "                A[i][j] = (-1/h**2 - 1/tau)\n",
    "            elif j == i - 1 or j == i + 1:\n",
    "                A[i][j] = (1/(2 * h**2))\n",
    "\n",
    "                \n",
    "y0 = []\n",
    "for x_ in x:\n",
    "    y0.append(u0(x_))\n",
    "\n",
    "y0 = np.array(y0)    \n",
    "        \n",
    "y = []\n",
    "y.append(y0)\n",
    "        \n",
    "for j in range(1, N2 + 1):\n",
    "    b = []\n",
    "    for i in range(N1 + 1):\n",
    "        if i == 0:\n",
    "            b.append(mu0(t[j]))\n",
    "        elif i == N1:\n",
    "            b.append(muN2(t[j]))\n",
    "        else:\n",
    "            b.append(-1/tau * y[j - 1][i] - 1/(2 * h ** 2) * (y[j - 1][i - 1] - 2 * y[j - 1][i] + y[j - 1][i + 1]) - f(x[i], t[j - 1] + tau/2))\n",
    "            \n",
    "            \n",
    "    y.append(np.dot(np.linalg.inv(A), b))"
   ]
  },
  {
   "cell_type": "code",
   "execution_count": null,
   "metadata": {
    "id": "FOO-yop-b9tZ",
    "outputId": "10273d93-adef-4855-b517-d069b4cfed90"
   },
   "outputs": [],
   "source": [
    "y"
   ]
  },
  {
   "cell_type": "code",
   "execution_count": null,
   "metadata": {
    "id": "4CbsHBw_b9tZ",
    "outputId": "68993999-d089-442f-ddff-6f315cad7ab6"
   },
   "outputs": [],
   "source": [
    "uline = []\n",
    "for xl in x:\n",
    "    uline.append(u(xl, t[0]))\n",
    "\n",
    "\n",
    "plt.plot(x, uline, label='точное решение', linewidth=4)\n",
    "plt.plot(x, y[0], label='приближённое решение')\n",
    "plt.show()"
   ]
  },
  {
   "cell_type": "code",
   "execution_count": null,
   "metadata": {
    "id": "_2g1yL9lb9ta",
    "outputId": "6d3f31f4-c300-4ac6-b320-d79a5dafedfb"
   },
   "outputs": [],
   "source": [
    "uline = []\n",
    "for tl in t:\n",
    "    uline.append(u(x[0], tl))\n",
    "\n",
    "\n",
    "plt.plot(t, np.transpose(y)[0], linewidth=4)\n",
    "plt.plot(t, uline)\n",
    "plt.show()"
   ]
  },
  {
   "cell_type": "code",
   "execution_count": null,
   "metadata": {
    "id": "IZP1Rf1nb9ta",
    "outputId": "a91a4167-fcdf-4184-aa0e-040a2c742f1a"
   },
   "outputs": [],
   "source": [
    "uline = []\n",
    "for xl in x:\n",
    "    uline.append(u(xl, t[4]))\n",
    "\n",
    "\n",
    "plt.plot(x, uline, label='точное решение', linewidth=4)\n",
    "plt.plot(x, y[4], label='приближённое решение')\n",
    "plt.show()"
   ]
  },
  {
   "cell_type": "code",
   "execution_count": null,
   "metadata": {
    "id": "rZVj93oNb9ta",
    "outputId": "f9b61e13-d813-41cf-8a2f-2edd203bb0d5"
   },
   "outputs": [],
   "source": [
    "uline = []\n",
    "for tl in t:\n",
    "    uline.append(u(x[4], tl))\n",
    "\n",
    "\n",
    "plt.plot(t, np.transpose(y)[4], linewidth=4)\n",
    "plt.plot(t, uline)\n",
    "plt.show()"
   ]
  },
  {
   "cell_type": "markdown",
   "metadata": {
    "id": "d_-ifVeSb9ta"
   },
   "source": [
    "Невязка:"
   ]
  },
  {
   "cell_type": "code",
   "execution_count": null,
   "metadata": {
    "id": "hdCVHRBwb9tb",
    "outputId": "c4b3f082-38eb-4356-e11e-0e33369378ab"
   },
   "outputs": [],
   "source": [
    "diff = []\n",
    "for j in range(N2 + 1):\n",
    "    diff.append([])\n",
    "    for i in range(N1 + 1):\n",
    "        diff[j].append(abs(y[j][i] - u(x[i], t[j])))\n",
    "\n",
    "max_j = []\n",
    "for d in diff:\n",
    "    max_j.append(max(d))\n",
    "    \n",
    "print(max(max_j))"
   ]
  },
  {
   "cell_type": "code",
   "execution_count": null,
   "metadata": {
    "id": "NJIu9MBQb9tb"
   },
   "outputs": [],
   "source": []
  }
 ],
 "metadata": {
  "colab": {
   "collapsed_sections": [],
   "name": "lab2.ipynb",
   "provenance": []
  },
  "kernelspec": {
   "display_name": "Python 3",
   "language": "python",
   "name": "python3"
  },
  "language_info": {
   "codemirror_mode": {
    "name": "ipython",
    "version": 3
   },
   "file_extension": ".py",
   "mimetype": "text/x-python",
   "name": "python",
   "nbconvert_exporter": "python",
   "pygments_lexer": "ipython3",
   "version": "3.8.5"
  }
 },
 "nbformat": 4,
 "nbformat_minor": 1
}
